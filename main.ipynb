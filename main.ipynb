{
 "cells": [
  {
   "cell_type": "code",
   "execution_count": 30,
   "metadata": {
    "collapsed": true
   },
   "outputs": [
    {
     "data": {
      "text/plain": "    age  gender      genre\n0    20       1     HipHop\n1    23       1     HipHop\n2    25       1     HipHop\n3    26       1       Jazz\n4    29       1       Jazz\n5    30       1       Jazz\n6    31       1  Classical\n7    33       1  Classical\n8    37       1  Classical\n9    20       0      Dance\n10   21       0      Dance\n11   25       0      Dance\n12   26       0   Acoustic\n13   27       0   Acoustic\n14   30       0   Acoustic\n15   31       0  Classical\n16   34       0  Classical\n17   35       0  Classical",
      "text/html": "<div>\n<style scoped>\n    .dataframe tbody tr th:only-of-type {\n        vertical-align: middle;\n    }\n\n    .dataframe tbody tr th {\n        vertical-align: top;\n    }\n\n    .dataframe thead th {\n        text-align: right;\n    }\n</style>\n<table border=\"1\" class=\"dataframe\">\n  <thead>\n    <tr style=\"text-align: right;\">\n      <th></th>\n      <th>age</th>\n      <th>gender</th>\n      <th>genre</th>\n    </tr>\n  </thead>\n  <tbody>\n    <tr>\n      <th>0</th>\n      <td>20</td>\n      <td>1</td>\n      <td>HipHop</td>\n    </tr>\n    <tr>\n      <th>1</th>\n      <td>23</td>\n      <td>1</td>\n      <td>HipHop</td>\n    </tr>\n    <tr>\n      <th>2</th>\n      <td>25</td>\n      <td>1</td>\n      <td>HipHop</td>\n    </tr>\n    <tr>\n      <th>3</th>\n      <td>26</td>\n      <td>1</td>\n      <td>Jazz</td>\n    </tr>\n    <tr>\n      <th>4</th>\n      <td>29</td>\n      <td>1</td>\n      <td>Jazz</td>\n    </tr>\n    <tr>\n      <th>5</th>\n      <td>30</td>\n      <td>1</td>\n      <td>Jazz</td>\n    </tr>\n    <tr>\n      <th>6</th>\n      <td>31</td>\n      <td>1</td>\n      <td>Classical</td>\n    </tr>\n    <tr>\n      <th>7</th>\n      <td>33</td>\n      <td>1</td>\n      <td>Classical</td>\n    </tr>\n    <tr>\n      <th>8</th>\n      <td>37</td>\n      <td>1</td>\n      <td>Classical</td>\n    </tr>\n    <tr>\n      <th>9</th>\n      <td>20</td>\n      <td>0</td>\n      <td>Dance</td>\n    </tr>\n    <tr>\n      <th>10</th>\n      <td>21</td>\n      <td>0</td>\n      <td>Dance</td>\n    </tr>\n    <tr>\n      <th>11</th>\n      <td>25</td>\n      <td>0</td>\n      <td>Dance</td>\n    </tr>\n    <tr>\n      <th>12</th>\n      <td>26</td>\n      <td>0</td>\n      <td>Acoustic</td>\n    </tr>\n    <tr>\n      <th>13</th>\n      <td>27</td>\n      <td>0</td>\n      <td>Acoustic</td>\n    </tr>\n    <tr>\n      <th>14</th>\n      <td>30</td>\n      <td>0</td>\n      <td>Acoustic</td>\n    </tr>\n    <tr>\n      <th>15</th>\n      <td>31</td>\n      <td>0</td>\n      <td>Classical</td>\n    </tr>\n    <tr>\n      <th>16</th>\n      <td>34</td>\n      <td>0</td>\n      <td>Classical</td>\n    </tr>\n    <tr>\n      <th>17</th>\n      <td>35</td>\n      <td>0</td>\n      <td>Classical</td>\n    </tr>\n  </tbody>\n</table>\n</div>"
     },
     "execution_count": 30,
     "metadata": {},
     "output_type": "execute_result"
    }
   ],
   "source": [
    "import pandas\n",
    "from sklearn.tree import DecisionTreeClassifier, plot_tree\n",
    "from sklearn.model_selection import train_test_split\n",
    "from sklearn.metrics import accuracy_score\n",
    "import joblib\n",
    "import pydotplus\n",
    "\n",
    "music_data_frame = pandas.read_csv('data/Music Data.csv')\n",
    "music_data_frame"
   ]
  },
  {
   "cell_type": "code",
   "execution_count": 31,
   "outputs": [
    {
     "data": {
      "text/plain": "    age  gender\n0    20       1\n1    23       1\n2    25       1\n3    26       1\n4    29       1\n5    30       1\n6    31       1\n7    33       1\n8    37       1\n9    20       0\n10   21       0\n11   25       0\n12   26       0\n13   27       0\n14   30       0\n15   31       0\n16   34       0\n17   35       0",
      "text/html": "<div>\n<style scoped>\n    .dataframe tbody tr th:only-of-type {\n        vertical-align: middle;\n    }\n\n    .dataframe tbody tr th {\n        vertical-align: top;\n    }\n\n    .dataframe thead th {\n        text-align: right;\n    }\n</style>\n<table border=\"1\" class=\"dataframe\">\n  <thead>\n    <tr style=\"text-align: right;\">\n      <th></th>\n      <th>age</th>\n      <th>gender</th>\n    </tr>\n  </thead>\n  <tbody>\n    <tr>\n      <th>0</th>\n      <td>20</td>\n      <td>1</td>\n    </tr>\n    <tr>\n      <th>1</th>\n      <td>23</td>\n      <td>1</td>\n    </tr>\n    <tr>\n      <th>2</th>\n      <td>25</td>\n      <td>1</td>\n    </tr>\n    <tr>\n      <th>3</th>\n      <td>26</td>\n      <td>1</td>\n    </tr>\n    <tr>\n      <th>4</th>\n      <td>29</td>\n      <td>1</td>\n    </tr>\n    <tr>\n      <th>5</th>\n      <td>30</td>\n      <td>1</td>\n    </tr>\n    <tr>\n      <th>6</th>\n      <td>31</td>\n      <td>1</td>\n    </tr>\n    <tr>\n      <th>7</th>\n      <td>33</td>\n      <td>1</td>\n    </tr>\n    <tr>\n      <th>8</th>\n      <td>37</td>\n      <td>1</td>\n    </tr>\n    <tr>\n      <th>9</th>\n      <td>20</td>\n      <td>0</td>\n    </tr>\n    <tr>\n      <th>10</th>\n      <td>21</td>\n      <td>0</td>\n    </tr>\n    <tr>\n      <th>11</th>\n      <td>25</td>\n      <td>0</td>\n    </tr>\n    <tr>\n      <th>12</th>\n      <td>26</td>\n      <td>0</td>\n    </tr>\n    <tr>\n      <th>13</th>\n      <td>27</td>\n      <td>0</td>\n    </tr>\n    <tr>\n      <th>14</th>\n      <td>30</td>\n      <td>0</td>\n    </tr>\n    <tr>\n      <th>15</th>\n      <td>31</td>\n      <td>0</td>\n    </tr>\n    <tr>\n      <th>16</th>\n      <td>34</td>\n      <td>0</td>\n    </tr>\n    <tr>\n      <th>17</th>\n      <td>35</td>\n      <td>0</td>\n    </tr>\n  </tbody>\n</table>\n</div>"
     },
     "execution_count": 31,
     "metadata": {},
     "output_type": "execute_result"
    }
   ],
   "source": [
    "# features = music_data_frame.drop(['genre'])\n",
    "\n",
    "# all but last column as the features\n",
    "features = music_data_frame.iloc[:, 0:-1]\n",
    "features"
   ],
   "metadata": {
    "collapsed": false,
    "pycharm": {
     "name": "#%%\n"
    }
   }
  },
  {
   "cell_type": "code",
   "execution_count": 32,
   "outputs": [
    {
     "data": {
      "text/plain": "0        HipHop\n1        HipHop\n2        HipHop\n3          Jazz\n4          Jazz\n5          Jazz\n6     Classical\n7     Classical\n8     Classical\n9         Dance\n10        Dance\n11        Dance\n12     Acoustic\n13     Acoustic\n14     Acoustic\n15    Classical\n16    Classical\n17    Classical\nName: genre, dtype: object"
     },
     "execution_count": 32,
     "metadata": {},
     "output_type": "execute_result"
    }
   ],
   "source": [
    "# label = music_data_frame['genre']\n",
    "\n",
    "# last column as the label\n",
    "label = music_data_frame.iloc[:, -1]\n",
    "label"
   ],
   "metadata": {
    "collapsed": false,
    "pycharm": {
     "name": "#%%\n"
    }
   }
  },
  {
   "cell_type": "code",
   "execution_count": 33,
   "outputs": [
    {
     "data": {
      "text/plain": "array(['HipHop', 'Dance'], dtype=object)"
     },
     "execution_count": 33,
     "metadata": {},
     "output_type": "execute_result"
    }
   ],
   "source": [
    "decision_tree_model = DecisionTreeClassifier()\n",
    "decision_tree_model.fit(features, label)\n",
    "\n",
    "input_set_1 = [21, 1]\n",
    "input_set_2 = [22, 0]\n",
    "\n",
    "decision_tree_model.predict([input_set_1, input_set_2])"
   ],
   "metadata": {
    "collapsed": false,
    "pycharm": {
     "name": "#%%\n"
    }
   }
  },
  {
   "cell_type": "code",
   "execution_count": 34,
   "outputs": [
    {
     "data": {
      "text/plain": "1.0"
     },
     "execution_count": 34,
     "metadata": {},
     "output_type": "execute_result"
    }
   ],
   "source": [
    "# test accuracy\n",
    "\n",
    "# splitting the data, 80% used for training and 20% used for testing\n",
    "features_for_training, features_for_testing, labels_for_training, labels_for_testing =train_test_split(features, label, test_size=0.2)\n",
    "\n",
    "# using the 80% to train model\n",
    "decision_tree_model.fit(features_for_training, labels_for_training)\n",
    "\n",
    "# using the 20% for testing/predictions\n",
    "model_predictions = decision_tree_model.predict(features_for_testing)\n",
    "accuracy_score(labels_for_testing, model_predictions)"
   ],
   "metadata": {
    "collapsed": false,
    "pycharm": {
     "name": "#%%\n"
    }
   }
  },
  {
   "cell_type": "code",
   "execution_count": 35,
   "outputs": [
    {
     "data": {
      "text/plain": "['models/Decision_Tree_Model.joblib']"
     },
     "execution_count": 35,
     "metadata": {},
     "output_type": "execute_result"
    }
   ],
   "source": [
    "# train and store model\n",
    "\n",
    "decision_tree_model.fit(features, label)\n",
    "joblib.dump(decision_tree_model, 'models/Decision_Tree_Model.joblib')"
   ],
   "metadata": {
    "collapsed": false,
    "pycharm": {
     "name": "#%%\n"
    }
   }
  },
  {
   "cell_type": "code",
   "execution_count": 51,
   "outputs": [
    {
     "data": {
      "text/plain": "[Text(209.25, 190.26, 'age <= 30.5\\ngini = 0.778\\nsamples = 18\\nvalue = [3, 6, 3, 3, 3]\\nclass = Classical'),\n Text(167.4, 135.9, 'gender <= 0.5\\ngini = 0.75\\nsamples = 12\\nvalue = [3, 0, 3, 3, 3]\\nclass = Acoustic'),\n Text(83.7, 81.53999999999999, 'age <= 25.5\\ngini = 0.5\\nsamples = 6\\nvalue = [3, 0, 3, 0, 0]\\nclass = Acoustic'),\n Text(41.85, 27.180000000000007, 'gini = 0.0\\nsamples = 3\\nvalue = [0, 0, 3, 0, 0]\\nclass = Dance'),\n Text(125.55000000000001, 27.180000000000007, 'gini = 0.0\\nsamples = 3\\nvalue = [3, 0, 0, 0, 0]\\nclass = Acoustic'),\n Text(251.10000000000002, 81.53999999999999, 'age <= 25.5\\ngini = 0.5\\nsamples = 6\\nvalue = [0, 0, 0, 3, 3]\\nclass = HipHop'),\n Text(209.25, 27.180000000000007, 'gini = 0.0\\nsamples = 3\\nvalue = [0, 0, 0, 3, 0]\\nclass = HipHop'),\n Text(292.95, 27.180000000000007, 'gini = 0.0\\nsamples = 3\\nvalue = [0, 0, 0, 0, 3]\\nclass = Jazz'),\n Text(251.10000000000002, 135.9, 'gini = 0.0\\nsamples = 6\\nvalue = [0, 6, 0, 0, 0]\\nclass = Classical')]"
     },
     "execution_count": 51,
     "metadata": {},
     "output_type": "execute_result"
    },
    {
     "data": {
      "text/plain": "<Figure size 432x288 with 1 Axes>",
      "image/png": "[encoded data removed]"
     },
     "metadata": {
      "needs_background": "light"
     },
     "output_type": "display_data"
    }
   ],
   "source": [
    "plot_tree(decision_tree_model,\n",
    "          feature_names=list(music_data_frame)[0:-1],\n",
    "          class_names=sorted(label.unique()),\n",
    "          rounded=True,\n",
    "          filled=True)\n"
   ],
   "metadata": {
    "collapsed": false,
    "pycharm": {
     "name": "#%%\n"
    }
   }
  }
 ],
 "metadata": {
  "kernelspec": {
   "display_name": "Python 3",
   "language": "python",
   "name": "python3"
  },
  "language_info": {
   "codemirror_mode": {
    "name": "ipython",
    "version": 2
   },
   "file_extension": ".py",
   "mimetype": "text/x-python",
   "name": "python",
   "nbconvert_exporter": "python",
   "pygments_lexer": "ipython2",
   "version": "2.7.6"
  }
 },
 "nbformat": 4,
 "nbformat_minor": 0
}